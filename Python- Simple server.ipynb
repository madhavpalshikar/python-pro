{
 "cells": [
  {
   "cell_type": "code",
   "execution_count": null,
   "metadata": {},
   "outputs": [],
   "source": [
    "from http.server import HTTPServer, BaseHTTPRequestHandler\n",
    "\n",
    "class Serv(BaseHTTPRequestHandler):\n",
    "    \n",
    "    def do_GET(self):\n",
    "        if self.path == '/':\n",
    "            self.path = '/index.html'\n",
    "            \n",
    "        try:\n",
    "            file_to_open = open(self.path[1:]).read()\n",
    "            self.send_response(200)\n",
    "        except:\n",
    "            file_to_open = \"File not found\"\n",
    "            self.send_response(404)\n",
    "        self.end_headers()\n",
    "        self.wfile.write(bytes(file_to_open, 'utf-8'))\n",
    "        \n",
    "httpd = HTTPServer(('localhost', 8080), Serv)\n",
    "httpd.serve_forever()\n",
    "httpd.stop()"
   ]
  }
 ],
 "metadata": {
  "kernelspec": {
   "display_name": "Python 3",
   "language": "python",
   "name": "python3"
  },
  "language_info": {
   "codemirror_mode": {
    "name": "ipython",
    "version": 3
   },
   "file_extension": ".py",
   "mimetype": "text/x-python",
   "name": "python",
   "nbconvert_exporter": "python",
   "pygments_lexer": "ipython3",
   "version": "3.8.5"
  }
 },
 "nbformat": 4,
 "nbformat_minor": 4
}
