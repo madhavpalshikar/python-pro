{
 "cells": [
  {
   "cell_type": "code",
   "execution_count": 4,
   "id": "corporate-genome",
   "metadata": {},
   "outputs": [
    {
     "name": "stdout",
     "output_type": "stream",
     "text": [
      "5\n",
      "<class 'int'>\n"
     ]
    }
   ],
   "source": [
    "x = 5\n",
    "print (x)\n",
    "print (type(x))"
   ]
  },
  {
   "cell_type": "code",
   "execution_count": 5,
   "id": "purple-worker",
   "metadata": {},
   "outputs": [
    {
     "name": "stdout",
     "output_type": "stream",
     "text": [
      "hello\n",
      "<class 'str'>\n"
     ]
    }
   ],
   "source": [
    "x = \"hello\"\n",
    "print(x)\n",
    "print(type(x))\n"
   ]
  },
  {
   "cell_type": "code",
   "execution_count": 6,
   "id": "vertical-shanghai",
   "metadata": {},
   "outputs": [
    {
     "name": "stdout",
     "output_type": "stream",
     "text": [
      "5 <class 'int'>\n"
     ]
    }
   ],
   "source": [
    "x = 5\n",
    "print(x, type(x))\n"
   ]
  },
  {
   "cell_type": "code",
   "execution_count": 7,
   "id": "medium-button",
   "metadata": {},
   "outputs": [
    {
     "name": "stdout",
     "output_type": "stream",
     "text": [
      "5.0 <class 'float'>\n"
     ]
    }
   ],
   "source": [
    "#float\n",
    "x = 5.0\n",
    "print(x ,type(x))"
   ]
  },
  {
   "cell_type": "code",
   "execution_count": 8,
   "id": "negative-brazil",
   "metadata": {},
   "outputs": [
    {
     "name": "stdout",
     "output_type": "stream",
     "text": [
      "True <class 'bool'>\n"
     ]
    }
   ],
   "source": [
    "#boolean\n",
    "x = True\n",
    "print(x, type(x))"
   ]
  },
  {
   "cell_type": "code",
   "execution_count": 9,
   "id": "lyric-stocks",
   "metadata": {},
   "outputs": [
    {
     "name": "stdout",
     "output_type": "stream",
     "text": [
      "3\n"
     ]
    }
   ],
   "source": [
    "a = 1\n",
    "b =2\n",
    "c = a + b\n",
    "print (c)"
   ]
  },
  {
   "cell_type": "markdown",
   "id": "posted-monster",
   "metadata": {},
   "source": [
    "a = 5\n",
    "b = 3\n",
    "print(a + b)"
   ]
  },
  {
   "cell_type": "code",
   "execution_count": 10,
   "id": "pleased-manhattan",
   "metadata": {},
   "outputs": [
    {
     "name": "stdout",
     "output_type": "stream",
     "text": [
      "8\n"
     ]
    }
   ],
   "source": [
    "a = 5\n",
    "b = 3\n",
    "print(a + b)"
   ]
  },
  {
   "cell_type": "code",
   "execution_count": 12,
   "id": "arbitrary-stadium",
   "metadata": {},
   "outputs": [
    {
     "name": "stdout",
     "output_type": "stream",
     "text": [
      "53\n"
     ]
    }
   ],
   "source": [
    "a = \"5\"\n",
    "b = \"3\" \n",
    "print(a + b)"
   ]
  },
  {
   "cell_type": "code",
   "execution_count": 13,
   "id": "nasty-hungary",
   "metadata": {},
   "outputs": [
    {
     "name": "stdout",
     "output_type": "stream",
     "text": [
      "[3, 'hello', 1.2]\n"
     ]
    }
   ],
   "source": [
    "# LISTS\n",
    "\n",
    "x = [3, \"hello\", 1.2]\n",
    "print(x)"
   ]
  },
  {
   "cell_type": "code",
   "execution_count": 16,
   "id": "technical-coordination",
   "metadata": {},
   "outputs": [],
   "source": [
    "x.append(7)"
   ]
  },
  {
   "cell_type": "code",
   "execution_count": 17,
   "id": "coral-script",
   "metadata": {},
   "outputs": [
    {
     "data": {
      "text/plain": [
       "4"
      ]
     },
     "execution_count": 17,
     "metadata": {},
     "output_type": "execute_result"
    }
   ],
   "source": [
    "len(x)"
   ]
  },
  {
   "cell_type": "code",
   "execution_count": 18,
   "id": "married-handy",
   "metadata": {},
   "outputs": [
    {
     "name": "stdout",
     "output_type": "stream",
     "text": [
      "[3, 'hello', 1.2, 7]\n"
     ]
    }
   ],
   "source": [
    "print(x)"
   ]
  },
  {
   "cell_type": "code",
   "execution_count": 19,
   "id": "quantitative-network",
   "metadata": {},
   "outputs": [
    {
     "name": "stdout",
     "output_type": "stream",
     "text": [
      "[3, 'bye', 1.2, 7]\n"
     ]
    }
   ],
   "source": [
    "x[1] = \"bye\"\n",
    "print(x)"
   ]
  },
  {
   "cell_type": "code",
   "execution_count": 20,
   "id": "abstract-reference",
   "metadata": {},
   "outputs": [
    {
     "name": "stdout",
     "output_type": "stream",
     "text": [
      "[3, 'bye', 1.2, 7, 2.4, 'world']\n"
     ]
    }
   ],
   "source": [
    "y = [2.4, \"world\"]\n",
    "z = x + y\n",
    "print(z)"
   ]
  },
  {
   "cell_type": "code",
   "execution_count": 21,
   "id": "alien-layout",
   "metadata": {},
   "outputs": [
    {
     "name": "stdout",
     "output_type": "stream",
     "text": [
      "x[0]:  3\n",
      "x[1]:  hello\n",
      "x[-1]:  1.2\n",
      "x[-2]:  hello\n"
     ]
    }
   ],
   "source": [
    "#Indexing\n",
    "x = [3, \"hello\", 1.2]\n",
    "print (\"x[0]: \", x[0])\n",
    "print (\"x[1]: \", x[1])\n",
    "print (\"x[-1]: \", x[-1])\n",
    "print (\"x[-2]: \", x[-2])\n",
    "\n"
   ]
  },
  {
   "cell_type": "code",
   "execution_count": 22,
   "id": "better-circumstances",
   "metadata": {},
   "outputs": [
    {
     "name": "stdout",
     "output_type": "stream",
     "text": [
      "[3, 'hello', 1.2]\n",
      "['hello', 1.2]\n",
      "['hello']\n",
      "[3, 'hello']\n"
     ]
    }
   ],
   "source": [
    "#slicing\n",
    "print (x[:]) #all slices\n",
    "print (x[1:]) # index 1 to end\n",
    "print (x[1:2]) # index 1 to index 2 not including index 2\n",
    "print (x[:-1]) # 0 to last index\n"
   ]
  },
  {
   "cell_type": "code",
   "execution_count": 23,
   "id": "tested-british",
   "metadata": {},
   "outputs": [
    {
     "name": "stdout",
     "output_type": "stream",
     "text": [
      "(3.0, 'hello')\n"
     ]
    }
   ],
   "source": [
    "# Tuples are ordered and immutable. you will use these to store values that will never be changed.\n",
    "\n",
    "x = (3.0, \"hello\") # tuples start and end with ()\n",
    "print(x)"
   ]
  },
  {
   "cell_type": "code",
   "execution_count": 24,
   "id": "fabulous-update",
   "metadata": {},
   "outputs": [
    {
     "name": "stdout",
     "output_type": "stream",
     "text": [
      "(3.0, 'hello', 5.6, 4)\n"
     ]
    }
   ],
   "source": [
    "#adding vallues to tuple\n",
    "x = x + (5.6, 4)\n",
    "print(x)"
   ]
  },
  {
   "cell_type": "code",
   "execution_count": 25,
   "id": "supported-carry",
   "metadata": {},
   "outputs": [
    {
     "ename": "TypeError",
     "evalue": "'tuple' object does not support item assignment",
     "output_type": "error",
     "traceback": [
      "\u001b[1;31m---------------------------------------------------------------------------\u001b[0m",
      "\u001b[1;31mTypeError\u001b[0m                                 Traceback (most recent call last)",
      "\u001b[1;32m<ipython-input-25-72701367d1ad>\u001b[0m in \u001b[0;36m<module>\u001b[1;34m\u001b[0m\n\u001b[0;32m      1\u001b[0m \u001b[1;31m# try to change (it wont work and you'll get and error)\u001b[0m\u001b[1;33m\u001b[0m\u001b[1;33m\u001b[0m\u001b[1;33m\u001b[0m\u001b[0m\n\u001b[1;32m----> 2\u001b[1;33m \u001b[0mx\u001b[0m\u001b[1;33m[\u001b[0m\u001b[1;36m0\u001b[0m\u001b[1;33m]\u001b[0m \u001b[1;33m=\u001b[0m \u001b[1;36m1.2\u001b[0m\u001b[1;33m\u001b[0m\u001b[1;33m\u001b[0m\u001b[0m\n\u001b[0m",
      "\u001b[1;31mTypeError\u001b[0m: 'tuple' object does not support item assignment"
     ]
    }
   ],
   "source": [
    "# try to change (it wont work and you'll get and error)\n",
    "x[0] = 1.2"
   ]
  },
  {
   "cell_type": "code",
   "execution_count": 27,
   "id": "polar-chance",
   "metadata": {},
   "outputs": [
    {
     "name": "stdout",
     "output_type": "stream",
     "text": [
      "Dictionaries are an unordered, mutable and indexed collection of key-value pairs. You can retrieve values based on the key and a dictionary cannot have two of the same keys\n"
     ]
    }
   ],
   "source": [
    "# Dictionaries\n",
    "print('Dictionaries are an unordered, mutable and indexed collection of key-value pairs. You can retrieve values based on the key and a dictionary cannot have two of the same keys')\n"
   ]
  },
  {
   "cell_type": "code",
   "execution_count": 28,
   "id": "running-small",
   "metadata": {},
   "outputs": [
    {
     "name": "stdout",
     "output_type": "stream",
     "text": [
      "{'name': 'madhav', 'eye_color': 'black'}\n",
      "madhav\n",
      "black\n"
     ]
    }
   ],
   "source": [
    "# creating a dictionary\n",
    "person = {'name': 'madhav',\n",
    "           'eye_color': 'black'}\n",
    "print(person)\n",
    "print(person['name'])\n",
    "print(person['eye_color'])"
   ]
  },
  {
   "cell_type": "code",
   "execution_count": 29,
   "id": "beneficial-today",
   "metadata": {},
   "outputs": [
    {
     "name": "stdout",
     "output_type": "stream",
     "text": [
      "{'name': 'madhav', 'eye_color': 'green'}\n"
     ]
    }
   ],
   "source": [
    "# changing the value for a key\n",
    "person['eye_color'] = 'green'\n",
    "print(person)"
   ]
  },
  {
   "cell_type": "code",
   "execution_count": 30,
   "id": "ordinary-admission",
   "metadata": {},
   "outputs": [
    {
     "name": "stdout",
     "output_type": "stream",
     "text": [
      "{'name': 'madhav', 'eye_color': 'green', 'age': 24}\n"
     ]
    }
   ],
   "source": [
    "#Adding new key-value pairs\n",
    "person['age'] = 24\n",
    "print(person)"
   ]
  },
  {
   "cell_type": "code",
   "execution_count": 31,
   "id": "prepared-contest",
   "metadata": {},
   "outputs": [
    {
     "name": "stdout",
     "output_type": "stream",
     "text": [
      "3\n"
     ]
    }
   ],
   "source": [
    "# length of a dictionary\n",
    "print (len(person))"
   ]
  },
  {
   "cell_type": "code",
   "execution_count": 32,
   "id": "grand-mongolia",
   "metadata": {},
   "outputs": [
    {
     "name": "stdout",
     "output_type": "stream",
     "text": [
      "We can use if statements to conditionally do something. the conditions are defined by the words if, elif and else. We can have as many elif statements as we want. The indented code below each condition is the code that will execute if condition is True\n"
     ]
    }
   ],
   "source": [
    "#IF statements\n",
    "print('We can use if statements to conditionally do something. the conditions are defined by the words if, elif and else. We can have as many elif statements as we want. The indented code below each condition is the code that will execute if condition is True')"
   ]
  },
  {
   "cell_type": "markdown",
   "id": "stable-accident",
   "metadata": {},
   "source": [
    "#if statement\n"
   ]
  },
  {
   "cell_type": "code",
   "execution_count": 34,
   "id": "considered-mount",
   "metadata": {},
   "outputs": [
    {
     "name": "stdout",
     "output_type": "stream",
     "text": [
      "medium\n"
     ]
    }
   ],
   "source": [
    "#if statement\n",
    "x = 4\n",
    "if x < 1:\n",
    "    score = 'low'\n",
    "elif x <= 4: #elif = else if\n",
    "    score = 'medium'\n",
    "else:\n",
    "    score = 'high'\n",
    "print(score)"
   ]
  },
  {
   "cell_type": "code",
   "execution_count": 35,
   "id": "latin-houston",
   "metadata": {},
   "outputs": [
    {
     "name": "stdout",
     "output_type": "stream",
     "text": [
      "it worked\n"
     ]
    }
   ],
   "source": [
    "# if statement with a boolean\n",
    "x = True\n",
    "if x :\n",
    "    print (\"it worked\")"
   ]
  },
  {
   "cell_type": "code",
   "execution_count": 36,
   "id": "equivalent-algorithm",
   "metadata": {},
   "outputs": [],
   "source": [
    "#Loops\n",
    "# for loops\n",
    "# while loops"
   ]
  },
  {
   "cell_type": "code",
   "execution_count": 37,
   "id": "conservative-hanging",
   "metadata": {},
   "outputs": [],
   "source": [
    "#For Loops\n",
    "# A For Loop can iterate over a collection of values ( lists, tuples, dictionaries etc)\n",
    "# The indented code is executed for each item in the collection of values"
   ]
  },
  {
   "cell_type": "code",
   "execution_count": 38,
   "id": "heard-crystal",
   "metadata": {},
   "outputs": [
    {
     "name": "stdout",
     "output_type": "stream",
     "text": [
      "carrot\n",
      "broccoli\n",
      "beans\n"
     ]
    }
   ],
   "source": [
    "# for loop\n",
    "veggies = [\"carrot\", \"broccoli\", \"beans\"]\n",
    "for veggie in veggies:\n",
    "    print(veggie)"
   ]
  },
  {
   "cell_type": "code",
   "execution_count": 39,
   "id": "equivalent-indian",
   "metadata": {},
   "outputs": [
    {
     "name": "stdout",
     "output_type": "stream",
     "text": [
      "When the loop encounters the break command, the loop will terminate immidiately. If there were more items in the list they will not be processed.\n"
     ]
    }
   ],
   "source": [
    "print ('When the loop encounters the break command, the loop will terminate immidiately. If there were more items in the list they will not be processed.')"
   ]
  },
  {
   "cell_type": "code",
   "execution_count": 41,
   "id": "incorporated-stake",
   "metadata": {},
   "outputs": [
    {
     "name": "stdout",
     "output_type": "stream",
     "text": [
      "carrot\n"
     ]
    }
   ],
   "source": [
    "# 'break' from a for loop\n",
    "for veggie in veggies:\n",
    "    if veggie == \"broccoli\":\n",
    "        break\n",
    "    print(veggie)"
   ]
  },
  {
   "cell_type": "code",
   "execution_count": 42,
   "id": "permanent-ideal",
   "metadata": {},
   "outputs": [
    {
     "name": "stdout",
     "output_type": "stream",
     "text": [
      "When the loop encounters the continue command, the loop will skip all other operations for that item in the list only. If there were more items in the list, the loop will continue normally\n"
     ]
    }
   ],
   "source": [
    "# 'continue' to the next iteration\n",
    "print ('When the loop encounters the continue command, the loop will skip all other operations for that item in the list only. If there were more items in the list, the loop will continue normally')"
   ]
  },
  {
   "cell_type": "code",
   "execution_count": 43,
   "id": "inner-intranet",
   "metadata": {},
   "outputs": [
    {
     "name": "stdout",
     "output_type": "stream",
     "text": [
      "carrot\n",
      "beans\n"
     ]
    }
   ],
   "source": [
    "# ' continue'\n",
    "for veggie in veggies:\n",
    "    if veggie == \"broccoli\":\n",
    "        continue\n",
    "    print(veggie)"
   ]
  },
  {
   "cell_type": "code",
   "execution_count": 44,
   "id": "collectible-differential",
   "metadata": {},
   "outputs": [],
   "source": [
    "# while loops\n",
    "# A while loop can perform repeatedly as long as a condition is true.\n",
    "# we can use continue and break commands in while loop as well."
   ]
  },
  {
   "cell_type": "code",
   "execution_count": 46,
   "id": "growing-closer",
   "metadata": {},
   "outputs": [
    {
     "name": "stdout",
     "output_type": "stream",
     "text": [
      "2\n",
      "1\n",
      "0\n"
     ]
    }
   ],
   "source": [
    "# while loop\n",
    "x = 3\n",
    "while x > 0:\n",
    "    x -= 1 \n",
    "    print (x)"
   ]
  },
  {
   "cell_type": "code",
   "execution_count": 47,
   "id": "future-globe",
   "metadata": {},
   "outputs": [],
   "source": [
    "#Functions\n",
    "# Functions are a way to modularize reusable pieces of code.\n",
    "# They're defined by the keyword def which stands for definition and they can have the following components\n",
    "# Function name\n",
    "# input parameter(s)\n",
    "# operations\n",
    "# docstring\n",
    "# output(s)"
   ]
  },
  {
   "cell_type": "code",
   "execution_count": 49,
   "id": "instrumental-relief",
   "metadata": {},
   "outputs": [
    {
     "name": "stdout",
     "output_type": "stream",
     "text": [
      "2\n",
      "2\n"
     ]
    }
   ],
   "source": [
    "# define the function\n",
    "def add_two(x):\n",
    "    \"\"\"Increase x y 2.\"\"\"\n",
    "    x += 2\n",
    "    return x\n",
    "\n",
    "# use the function\n",
    "score = 0\n",
    "new_score = add_two(x=score)\n",
    "print (new_score)\n",
    "print (new_score)"
   ]
  },
  {
   "cell_type": "code",
   "execution_count": 50,
   "id": "foreign-disney",
   "metadata": {},
   "outputs": [],
   "source": [
    "# functions can have multiple inputs\n",
    "def join_name(first_name, last_name):\n",
    "    \"\"\"Combine first and last name.\"\"\"\n",
    "    joined_name = first_name + \" \" + last_name\n",
    "    return joined_name"
   ]
  },
  {
   "cell_type": "code",
   "execution_count": 51,
   "id": "stretch-range",
   "metadata": {},
   "outputs": [
    {
     "name": "stdout",
     "output_type": "stream",
     "text": [
      "Madhav Palshikar\n"
     ]
    }
   ],
   "source": [
    "# use function\n",
    "first_name = \"madhav\"\n",
    "last_name = \"palshikar\"\n",
    "joined_name = join_name(first_name, last_name)\n",
    "print(joined_name.title())"
   ]
  },
  {
   "cell_type": "code",
   "execution_count": 1,
   "id": "local-guide",
   "metadata": {
    "scrolled": true
   },
   "outputs": [
    {
     "name": "stdout",
     "output_type": "stream",
     "text": [
      "x: 5, y: 2\n"
     ]
    }
   ],
   "source": [
    "# *args and **kwargs - the significance of the * is that any number of arguments and keyword arguments can be passed into the function\n",
    "def f(*args, **kwargs):\n",
    "    x = args[0]\n",
    "    y = kwargs.get('y')\n",
    "    print(f\"x: {x}, y: {y}\")\n",
    "\n",
    "f(5, y=2)"
   ]
  },
  {
   "cell_type": "code",
   "execution_count": 2,
   "id": "necessary-liability",
   "metadata": {},
   "outputs": [
    {
     "name": "stdout",
     "output_type": "stream",
     "text": [
      "Classes are object constructors and are a funcdamental component of object oriented programming in Python. They are composed of a set of functions that define the class and it's operations.\n"
     ]
    }
   ],
   "source": [
    "# Classes\n",
    "print('Classes are object constructors and are a funcdamental component of object oriented programming in Python. They are composed of a set of functions that define the class and it\\'s operations.')"
   ]
  },
  {
   "cell_type": "code",
   "execution_count": 3,
   "id": "hawaiian-tradition",
   "metadata": {},
   "outputs": [],
   "source": [
    "# Magic Functions\n",
    "# Classes can be customized with magic functions like __init__ and __str__, to enable powerfull operations.\n",
    "# The __init__ function is used when an instance of the class is initialized."
   ]
  },
  {
   "cell_type": "code",
   "execution_count": 4,
   "id": "naughty-queensland",
   "metadata": {},
   "outputs": [],
   "source": [
    "# Creating the class\n",
    "class Pet(object):\n",
    "    \"\"\"Class object for a pet.\"\"\"\n",
    "    \n",
    "    def __init__(self, species, name):\n",
    "        \"\"\"Initialize a Pet.\"\"\"\n",
    "        self.species = species\n",
    "        self.name = name\n",
    "        "
   ]
  },
  {
   "cell_type": "code",
   "execution_count": 5,
   "id": "thrown-indie",
   "metadata": {},
   "outputs": [
    {
     "name": "stdout",
     "output_type": "stream",
     "text": [
      "<__main__.Pet object at 0x0000029A552C22B0>\n",
      "Scooby\n"
     ]
    }
   ],
   "source": [
    "# creating an instance of a class\n",
    "my_dog = Pet(species=\"dog\", name=\"Scooby\")\n",
    "print(my_dog)\n",
    "print(my_dog.name)"
   ]
  },
  {
   "cell_type": "code",
   "execution_count": 6,
   "id": "visible-workstation",
   "metadata": {},
   "outputs": [],
   "source": [
    "# The print(my_dog) command printed something not so relevent to us. Let's fix that\n",
    "#with __str__ function."
   ]
  },
  {
   "cell_type": "code",
   "execution_count": 8,
   "id": "infectious-panama",
   "metadata": {},
   "outputs": [],
   "source": [
    "# Creating the class\n",
    "class Pet(object):\n",
    "    \"\"\"Class object for a pet.\"\"\"\n",
    "    \n",
    "    def __init__(self, species, name):\n",
    "        \"\"\"Initialize a Pet.\"\"\"\n",
    "        self.species = species\n",
    "        self.name = name\n",
    "        \n",
    "    def __str__(self):\n",
    "        \"\"\"Output when printing an instance of a Pet\"\"\"\n",
    "        return f\"{self.species} named {self.name}\"\n",
    "    "
   ]
  },
  {
   "cell_type": "code",
   "execution_count": 9,
   "id": "veterinary-prerequisite",
   "metadata": {},
   "outputs": [
    {
     "name": "stdout",
     "output_type": "stream",
     "text": [
      "dog named Scooby\n",
      "Scooby\n"
     ]
    }
   ],
   "source": [
    "# creating an instance of a class\n",
    "my_dog = Pet(species=\"dog\", name=\"Scooby\")\n",
    "print(my_dog)\n",
    "print(my_dog.name)"
   ]
  },
  {
   "cell_type": "code",
   "execution_count": 11,
   "id": "attractive-aging",
   "metadata": {},
   "outputs": [],
   "source": [
    "#Object functions\n",
    "#Besides these magic functions, classes can also have object functions\n",
    "\n",
    "# Creating the class\n",
    "class Pet(object):\n",
    "    \"\"\"Class object for pet.\"\"\"\n",
    "    \n",
    "    def __init__(self, species, name):\n",
    "        self.species = species\n",
    "        self.name = name\n",
    "    \n",
    "    def __str__(self):\n",
    "        return f\"{self.species} named {self.name}\"\n",
    "    \n",
    "    def change_name(self, new_name):\n",
    "        self.name = new_name\n",
    "        "
   ]
  },
  {
   "cell_type": "code",
   "execution_count": 14,
   "id": "chronic-madagascar",
   "metadata": {},
   "outputs": [
    {
     "name": "stdout",
     "output_type": "stream",
     "text": [
      "dog named Scooby\n",
      "Scooby\n",
      "Doo\n"
     ]
    }
   ],
   "source": [
    "# Creating an instance of a class\n",
    "\n",
    "my_dog = Pet(species=\"dog\", name=\"Scooby\")\n",
    "print(my_dog)\n",
    "print(my_dog.name)\n",
    "my_dog.change_name(new_name = 'Doo')\n",
    "print(my_dog.name)"
   ]
  },
  {
   "cell_type": "code",
   "execution_count": 15,
   "id": "physical-injection",
   "metadata": {},
   "outputs": [],
   "source": [
    "# Inheritance\n",
    "# We can also build classes on top of one another using inheritance, which allows us to inherit all the properties and methods from another class (the parent).\n",
    "\n",
    "class Dog(Pet):\n",
    "    def __init__(self, species, name, breed):\n",
    "        super().__init__(\"dog\", name)\n",
    "        self.breed = breed\n",
    "        \n",
    "    def __str__(self):\n",
    "        return f\"{self.breed} named {self.name}\""
   ]
  },
  {
   "cell_type": "code",
   "execution_count": 17,
   "id": "demographic-airline",
   "metadata": {},
   "outputs": [
    {
     "name": "stdout",
     "output_type": "stream",
     "text": [
      "Great Dane named Scooby\n"
     ]
    }
   ],
   "source": [
    "scooby = Dog(species=\"dog\", breed=\"Great Dane\", name=\"Scooby\")\n",
    "print(scooby)"
   ]
  },
  {
   "cell_type": "code",
   "execution_count": 18,
   "id": "brazilian-inspector",
   "metadata": {},
   "outputs": [],
   "source": [
    "scooby.change_name(new_name=\"Doo\")"
   ]
  },
  {
   "cell_type": "code",
   "execution_count": 19,
   "id": "nervous-exclusive",
   "metadata": {},
   "outputs": [
    {
     "name": "stdout",
     "output_type": "stream",
     "text": [
      "Great Dane named Doo\n"
     ]
    }
   ],
   "source": [
    "print(scooby)"
   ]
  },
  {
   "cell_type": "code",
   "execution_count": 23,
   "id": "suburban-transparency",
   "metadata": {},
   "outputs": [],
   "source": [
    "# Methods\n",
    "# There are two important decorator methods to know about when it comes to classes:\n",
    "# @classmethod and @staticmethod. We will learn about decorators in the next section below but these specific methods pertain to classes so we'll cover them here.\n",
    "\n",
    "class Dog(Pet):\n",
    "    def __init__(self, name, breed):\n",
    "        super().__init__(\"dog\", name)\n",
    "        self.breed = breed\n",
    "        \n",
    "    def __str__(self):\n",
    "        return f\"{self.breed} named {self.name}\"\n",
    "    \n",
    "    @classmethod\n",
    "    def from_dict(cls, d):\n",
    "        return cls(name=d[\"name\"], breed=d[\"breed\"])\n",
    "    \n",
    "    @staticmethod\n",
    "    def is_cute(breed):\n",
    "        return True\n"
   ]
  },
  {
   "cell_type": "code",
   "execution_count": 25,
   "id": "electric-bristol",
   "metadata": {},
   "outputs": [
    {
     "name": "stdout",
     "output_type": "stream",
     "text": [
      "Border Collie named Cassie\n"
     ]
    }
   ],
   "source": [
    "# A @classmethod allows us to create class instances by passing in the uninitiated class itself(cls).\n",
    "# This is a greate way to create (or load) classes from objects (ie. dictionaries).\n",
    "\n",
    "#create instance\n",
    "d = {\"name\": \"Cassie\", \"breed\": \"Border Collie\"}\n",
    "cassie = Dog.from_dict(d=d)\n",
    "print(cassie)"
   ]
  },
  {
   "cell_type": "code",
   "execution_count": 27,
   "id": "fixed-aspect",
   "metadata": {},
   "outputs": [
    {
     "data": {
      "text/plain": [
       "True"
      ]
     },
     "execution_count": 27,
     "metadata": {},
     "output_type": "execute_result"
    }
   ],
   "source": [
    "# A @staticmethod can be called from an uninstantiated class object so we can do things like this:\n",
    "\n",
    "#static method\n",
    "Dog.is_cute(breed=\"Border Collie\")"
   ]
  },
  {
   "cell_type": "code",
   "execution_count": 28,
   "id": "exposed-knitting",
   "metadata": {},
   "outputs": [
    {
     "name": "stdout",
     "output_type": "stream",
     "text": [
      "Recall that functions allow us to modularize code and reuse them. however, we'll often want to add some functionality before or after the main function executes and we may want to do this for may different functions. instead of adding more code to the original function, we can use decorators!\n",
      "Decorators: augment a function with pre/post-processing. Decorators wrap around the main function and allow us to operate on the inputs and or outputs.\n",
      "suppose we have a function called operations which increaments the input value by 1.\n"
     ]
    },
    {
     "data": {
      "text/plain": [
       "2"
      ]
     },
     "execution_count": 28,
     "metadata": {},
     "output_type": "execute_result"
    }
   ],
   "source": [
    "# Decorators\n",
    "print(\"Recall that functions allow us to modularize code and reuse them. however, we'll often want to add some functionality before or after the main function executes and we may want to do this for may different functions. instead of adding more code to the original function, we can use decorators!\")\n",
    "print(\"Decorators: augment a function with pre/post-processing. Decorators wrap around the main function and allow us to operate on the inputs and or outputs.\")\n",
    "print(\"suppose we have a function called operations which increaments the input value by 1.\")\n",
    "\n",
    "def operations(x):\n",
    "    x += 1\n",
    "    return x\n",
    "\n",
    "operations(x=1)\n"
   ]
  },
  {
   "cell_type": "code",
   "execution_count": 29,
   "id": "romantic-oracle",
   "metadata": {},
   "outputs": [
    {
     "data": {
      "text/plain": [
       "4"
      ]
     },
     "execution_count": 29,
     "metadata": {},
     "output_type": "execute_result"
    }
   ],
   "source": [
    "def operations(x):\n",
    "    x += 1\n",
    "    x += 1\n",
    "    x += 1\n",
    "    return x\n",
    "\n",
    "operations(x=1)"
   ]
  },
  {
   "cell_type": "code",
   "execution_count": 35,
   "id": "important-message",
   "metadata": {},
   "outputs": [],
   "source": [
    "# Decorator\n",
    "def add(f):\n",
    "    def wrapper(*args, **kwargs):\n",
    "        \"\"\"Wrapper function for @add.\"\"\"\n",
    "        x = kwargs.pop('x')\n",
    "        x += 1\n",
    "        x = f(*args, **kwargs, x=x)\n",
    "        x += 1\n",
    "        return x\n",
    "    return wrapper\n"
   ]
  },
  {
   "cell_type": "code",
   "execution_count": 36,
   "id": "cathedral-youth",
   "metadata": {},
   "outputs": [
    {
     "data": {
      "text/plain": [
       "4"
      ]
     },
     "execution_count": 36,
     "metadata": {},
     "output_type": "execute_result"
    }
   ],
   "source": [
    "@add\n",
    "def operations(x):\n",
    "    x += 1\n",
    "    return x\n",
    "\n",
    "operations(x=1)"
   ]
  },
  {
   "cell_type": "code",
   "execution_count": 37,
   "id": "ambient-backup",
   "metadata": {},
   "outputs": [
    {
     "data": {
      "text/plain": [
       "('wrapper', 'Wrapper function for @add.')"
      ]
     },
     "execution_count": 37,
     "metadata": {},
     "output_type": "execute_result"
    }
   ],
   "source": [
    "operations.__name__, operations.__doc__"
   ]
  },
  {
   "cell_type": "code",
   "execution_count": 40,
   "id": "expensive-superior",
   "metadata": {},
   "outputs": [
    {
     "data": {
      "text/plain": [
       "4"
      ]
     },
     "execution_count": 40,
     "metadata": {},
     "output_type": "execute_result"
    }
   ],
   "source": [
    "# functools.wraps\n",
    "\n",
    "from functools import wraps\n",
    "\n",
    "# Decorator\n",
    "def add(f):\n",
    "    @wraps(f)\n",
    "    def wrap(*args, **kwargs):\n",
    "        \"\"\"Wrapper function for @add.\"\"\"\n",
    "        x = kwargs.pop('x')\n",
    "        x += 1\n",
    "        x = f(*args, **kwargs, x=x)\n",
    "        x += 1\n",
    "        return x\n",
    "    return wrap\n",
    "\n",
    "@add\n",
    "def operations(x):\n",
    "    \"\"\"Basic operations.\"\"\"\n",
    "    x += 1\n",
    "    return x\n",
    "\n",
    "operations(x=1)"
   ]
  },
  {
   "cell_type": "code",
   "execution_count": 42,
   "id": "administrative-marking",
   "metadata": {},
   "outputs": [
    {
     "data": {
      "text/plain": [
       "('operations', 'Basic operations.')"
      ]
     },
     "execution_count": 42,
     "metadata": {},
     "output_type": "execute_result"
    }
   ],
   "source": [
    "operations.__name__, operations.__doc__"
   ]
  },
  {
   "cell_type": "code",
   "execution_count": 46,
   "id": "rocky-monitoring",
   "metadata": {},
   "outputs": [
    {
     "data": {
      "text/plain": [
       "2"
      ]
     },
     "execution_count": 46,
     "metadata": {},
     "output_type": "execute_result"
    }
   ],
   "source": [
    "# callbacks: conditional/situational processing within the function.\n",
    "\n",
    "class x_tracker(object):\n",
    "    def __init__(self, x):\n",
    "        self.history = []\n",
    "    def at_start(self, x):\n",
    "        self.history.append(x)\n",
    "    def at_end(self, x):\n",
    "        self.history.append(x)\n",
    "        \n",
    "        \n",
    "def operations(x, callbacks=[]):\n",
    "    \"\"\"Basic operations\"\"\"\n",
    "    for callback in callbacks:\n",
    "        callback.at_start(x)\n",
    "    x += 1\n",
    "    for callback in callbacks:\n",
    "        callback.at_end(x)\n",
    "    return x\n",
    "\n",
    "x = 1\n",
    "tracker = x_tracker(x=x)\n",
    "operations(x=x, callbacks=[tracker])\n",
    "\n",
    "operations(x=x, callbacks=[tracker])"
   ]
  },
  {
   "cell_type": "code",
   "execution_count": 47,
   "id": "ranging-certificate",
   "metadata": {},
   "outputs": [
    {
     "data": {
      "text/plain": [
       "[1, 2, 1, 2]"
      ]
     },
     "execution_count": 47,
     "metadata": {},
     "output_type": "execute_result"
    }
   ],
   "source": [
    "tracker.history"
   ]
  }
 ],
 "metadata": {
  "kernelspec": {
   "display_name": "Python 3",
   "language": "python",
   "name": "python3"
  },
  "language_info": {
   "codemirror_mode": {
    "name": "ipython",
    "version": 3
   },
   "file_extension": ".py",
   "mimetype": "text/x-python",
   "name": "python",
   "nbconvert_exporter": "python",
   "pygments_lexer": "ipython3",
   "version": "3.9.0"
  }
 },
 "nbformat": 4,
 "nbformat_minor": 5
}
