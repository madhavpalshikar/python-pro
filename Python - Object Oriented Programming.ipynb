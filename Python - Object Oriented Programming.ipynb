{
 "cells": [
  {
   "cell_type": "code",
   "execution_count": 1,
   "metadata": {},
   "outputs": [
    {
     "name": "stdout",
     "output_type": "stream",
     "text": [
      "HELLO\n"
     ]
    }
   ],
   "source": [
    "string = \"hello\"\n",
    "print(string.upper()) # upper is method of string class"
   ]
  },
  {
   "cell_type": "code",
   "execution_count": 16,
   "metadata": {},
   "outputs": [
    {
     "name": "stdout",
     "output_type": "stream",
     "text": [
      "Tim\n",
      "<class '__main__.Dog'>\n",
      "bark\n",
      "6\n",
      "Tim\n",
      "5\n",
      "10\n"
     ]
    }
   ],
   "source": [
    "# class working\n",
    "class Dog:\n",
    "    #method\n",
    "    def __init__(self, name, age): # special method allows us to instantiate object\n",
    "        # __init__ gets called automatically while creating class object\n",
    "        self.name = name # attribute\n",
    "        self.age = age\n",
    "        print(self.name)\n",
    "    \n",
    "    def bark(self): #all method starts with self\n",
    "        print(\"bark\")\n",
    "  \n",
    "    def add_one(self, x):\n",
    "        return x +1;\n",
    "    \n",
    "    def get_name(self):\n",
    "        return self.name\n",
    "    \n",
    "    def get_age(self):\n",
    "        return self.age\n",
    "    \n",
    "    def set_age(self, age):\n",
    "        self.age = age\n",
    "    \n",
    "    \n",
    "d = Dog(\"Tim\", 5)\n",
    "print(type(d))\n",
    "# default everything runs under __main__\n",
    "\n",
    "# accesing class methods\n",
    "d.bark()\n",
    "print(d.add_one(5))\n",
    "print(d.get_name())\n",
    "print(d.get_age())\n",
    "d.set_age(10)\n",
    "print(d.get_age())"
   ]
  },
  {
   "cell_type": "code",
   "execution_count": 20,
   "metadata": {},
   "outputs": [
    {
     "name": "stdout",
     "output_type": "stream",
     "text": [
      "85.0\n",
      "False\n"
     ]
    }
   ],
   "source": [
    "class Student:\n",
    "    def __init__(self, name, age, grade):\n",
    "        self.name = name\n",
    "        self.age = age\n",
    "        self. grade = grade\n",
    "        \n",
    "    def get_grade(self):\n",
    "        return self.grade\n",
    "    \n",
    "class Course:\n",
    "    def __init__(self, name, max_students):\n",
    "        self.name = name \n",
    "        self.max_students = max_students\n",
    "        self.students = []\n",
    "        \n",
    "    def add_student(self, student):\n",
    "        if len(self.students) < self.max_students:\n",
    "            self.students.append(student)\n",
    "            return True\n",
    "        return False\n",
    "    \n",
    "    def get_average_grade(self):\n",
    "        value = 0\n",
    "        for student in self.students:\n",
    "            value += student.get_grade()\n",
    "            \n",
    "        return value / len(self.students)\n",
    "    \n",
    "    \n",
    "    \n",
    "s1 = Student(\"Tim\", 19, 95)\n",
    "s2 = Student(\"Bill\", 19, 75)\n",
    "s3 = Student(\"Jill\", 19, 65)\n",
    "\n",
    "course = Course(\"Science\", 2)\n",
    "course.add_student(s1)\n",
    "course.add_student(s2)\n",
    "print(course.get_average_grade())\n",
    "print(course.add_student(s3)) # max students are only 2 in this course"
   ]
  },
  {
   "cell_type": "code",
   "execution_count": null,
   "metadata": {},
   "outputs": [],
   "source": [
    "# without inheritance we need to create multiple classes with little change\n",
    "class Cat:\n",
    "    def __init__(self, name, age):\n",
    "        self.name = name\n",
    "        self.age = age\n",
    "    \n",
    "    def speak(self):\n",
    "        print(\"Meow\")\n",
    "        \n",
    "class Dog:\n",
    "    def __init__(self, name, age):\n",
    "        self.name = name\n",
    "        self.age = age\n",
    "        \n",
    "    def speak(self):\n",
    "        print(\"Bark\")\n",
    "        \n",
    "        "
   ]
  },
  {
   "cell_type": "code",
   "execution_count": 29,
   "metadata": {},
   "outputs": [
    {
     "name": "stdout",
     "output_type": "stream",
     "text": [
      "I am Tim and I am 19 years old\n",
      "I don't know what I say\n",
      "I am Bill and I am 22 years old and I am Brown\n",
      "Meow\n",
      "I am Jill and I am 25 years old\n",
      "Bark\n",
      "I don't know what I say\n"
     ]
    }
   ],
   "source": [
    "# Inheritance\n",
    "\n",
    "class Pet:\n",
    "    def __init__(self, name, age):\n",
    "        self.name = name\n",
    "        self.age = age\n",
    "        \n",
    "    def show(self):\n",
    "        print(f\"I am {self.name} and I am {self.age} years old\")\n",
    "        \n",
    "    def speak(self):\n",
    "        print(\"I don't know what I say\")\n",
    "        \n",
    "class Cat(Pet):\n",
    "    \n",
    "    def __init__(self, name, age, color):\n",
    "        super().__init__(name, age)\n",
    "        self.color = color \n",
    "        # only additional specific to this class attributes \n",
    "        # need to define here other command attributes will get initialized in \n",
    "        # parent Pet class with SUPER class\n",
    "    \n",
    "    def speak(self):\n",
    "        print(\"Meow\")\n",
    "        \n",
    "    def show(self):\n",
    "        print(f\"I am {self.name} and I am {self.age} years old and I am {self.color}\")\n",
    "        \n",
    "class Dog(Pet):\n",
    "    def speak(self):\n",
    "        print(\"Bark\")     \n",
    "        \n",
    "class Fish(Pet):\n",
    "    pass\n",
    "        \n",
    "p = Pet(\"Tim\", 19)\n",
    "p.show()\n",
    "p.speak()\n",
    "\n",
    "c = Cat(\"Bill\", 22, \"Brown\")\n",
    "c.show()\n",
    "c.speak()\n",
    "\n",
    "d = Dog(\"Jill\", 25)\n",
    "d.show()\n",
    "d.speak()\n",
    "\n",
    "f = Fish(\"fish\",66)\n",
    "f.speak()"
   ]
  },
  {
   "cell_type": "code",
   "execution_count": 35,
   "metadata": {},
   "outputs": [
    {
     "name": "stdout",
     "output_type": "stream",
     "text": [
      "8\n",
      "9\n",
      "-9.8\n"
     ]
    }
   ],
   "source": [
    "#static attributes\n",
    "\n",
    "class Person:\n",
    "    number_of_people = 0 # static attribute\n",
    "    GRAVITY = -9.8 #constants\n",
    "    \n",
    "    def __init__(self, name):\n",
    "        self.name = name\n",
    "        Person.number_of_people += 1\n",
    "        \n",
    "p1 = Person(\"tim\")\n",
    "\n",
    "\n",
    "Person.number_of_people = 8 # set value with class name\n",
    "print(p1.number_of_people)\n",
    "\n",
    "p2 = Person(\"jill\")\n",
    "print(p2.number_of_people)\n",
    "print(Person.GRAVITY)"
   ]
  },
  {
   "cell_type": "code",
   "execution_count": 44,
   "metadata": {},
   "outputs": [
    {
     "name": "stdout",
     "output_type": "stream",
     "text": [
      "2\n"
     ]
    }
   ],
   "source": [
    "# class method\n",
    "\n",
    "class Person:\n",
    "    number_of_people = 0 # static attribute\n",
    "    GRAVITY = -9.8 #constants\n",
    "    \n",
    "    def __init__(self, name):\n",
    "        self.name = name\n",
    "        Person.add_person()\n",
    "        \n",
    "    @classmethod\n",
    "    def number_of_people_(cls):\n",
    "        return cls.number_of_people\n",
    "    \n",
    "    @classmethod\n",
    "    def add_person(cls):\n",
    "        cls.number_of_people += 1\n",
    "    \n",
    "p1 = Person(\"tim\")\n",
    "p2 = Person(\"jim\")\n",
    "\n",
    "print(Person.number_of_people_())"
   ]
  },
  {
   "cell_type": "markdown",
   "metadata": {},
   "source": [
    "# static methods"
   ]
  },
  {
   "cell_type": "code",
   "execution_count": 49,
   "metadata": {},
   "outputs": [
    {
     "name": "stdout",
     "output_type": "stream",
     "text": [
      "10\n",
      "15\n"
     ]
    }
   ],
   "source": [
    "class Math:\n",
    "    \n",
    "    @staticmethod\n",
    "    def add5(x): #dont need here self or cls this is just function\n",
    "        return x + 5\n",
    "    \n",
    "    @staticmethod\n",
    "    def add10(x): #dont need here self or cls this is just function\n",
    "        return x + 10\n",
    "    \n",
    "print(Math.add5(5))\n",
    "print(Math.add10(5))"
   ]
  }
 ],
 "metadata": {
  "kernelspec": {
   "display_name": "Python 3",
   "language": "python",
   "name": "python3"
  },
  "language_info": {
   "codemirror_mode": {
    "name": "ipython",
    "version": 3
   },
   "file_extension": ".py",
   "mimetype": "text/x-python",
   "name": "python",
   "nbconvert_exporter": "python",
   "pygments_lexer": "ipython3",
   "version": "3.8.5"
  }
 },
 "nbformat": 4,
 "nbformat_minor": 4
}
